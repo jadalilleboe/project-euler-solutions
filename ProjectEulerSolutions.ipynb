{
  "nbformat": 4,
  "nbformat_minor": 0,
  "metadata": {
    "colab": {
      "name": "ProjectEulerSolutions.ipynb",
      "provenance": [],
      "collapsed_sections": [],
      "authorship_tag": "ABX9TyM+T/cLWKR5ZjvwSMRO9zqX"
    },
    "kernelspec": {
      "name": "python3",
      "display_name": "Python 3"
    },
    "language_info": {
      "name": "python"
    }
  },
  "cells": [
    {
      "cell_type": "markdown",
      "source": [
        "# Euler"
      ],
      "metadata": {
        "id": "9KwU33GoSzDq"
      }
    },
    {
      "cell_type": "markdown",
      "source": [
        "#### [Smallest Multiple](https://projecteuler.net/problem=5)"
      ],
      "metadata": {
        "id": "En1Y9AcHTRei"
      }
    },
    {
      "cell_type": "markdown",
      "source": [
        "2520 is the smallest number that can be divided by each of the numbers from 1 to 10 without any remainder.\n",
        "\n",
        "What is the smallest positive number that is evenly divisible by all of the numbers from 1 to 20?\n",
        "\n",
        "Solution: multiply all of the lowest prime factors of each number 1-20. 2^4, 3^2, 5, ..."
      ],
      "metadata": {
        "id": "Z2ZNxfgGl7f2"
      }
    },
    {
      "cell_type": "code",
      "source": [
        "i = 20\n",
        "while (i < 1000000000):\n",
        "  valid = True\n",
        "  for j in range(1, 21):\n",
        "    if (i % j != 0):\n",
        "      valid = False\n",
        "      break\n",
        "  if valid:\n",
        "    print(i)\n",
        "    break\n",
        "  i += 1\n"
      ],
      "metadata": {
        "colab": {
          "base_uri": "https://localhost:8080/"
        },
        "id": "9nFPiiQeENmY",
        "outputId": "7db7b054-7fff-45b7-d6fe-c72c920c5794"
      },
      "execution_count": null,
      "outputs": [
        {
          "output_type": "stream",
          "name": "stdout",
          "text": [
            "232792560\n"
          ]
        }
      ]
    },
    {
      "cell_type": "markdown",
      "source": [
        "#### [Multiples of 3 or 5](https://projecteuler.net/problem=1)"
      ],
      "metadata": {
        "id": "WX8xnQtX-6u3"
      }
    },
    {
      "cell_type": "code",
      "source": [
        "sum = 0\n",
        "\n",
        "for i in range(3, 1000):\n",
        "  if (i % 3 == 0) or (i % 5 == 0):\n",
        "    sum += i\n",
        "\n",
        "print(sum)"
      ],
      "metadata": {
        "colab": {
          "base_uri": "https://localhost:8080/"
        },
        "id": "yG75wO2o-_Fh",
        "outputId": "47d9a82e-a00c-458b-b2fb-a6b679d736fc"
      },
      "execution_count": null,
      "outputs": [
        {
          "output_type": "stream",
          "name": "stdout",
          "text": [
            "233168\n"
          ]
        }
      ]
    },
    {
      "cell_type": "markdown",
      "source": [
        "#### [Even fibonacci numbers](https://projecteuler.net/problem=2)"
      ],
      "metadata": {
        "id": "kK6mzE7KAGm-"
      }
    },
    {
      "cell_type": "code",
      "source": [
        "import time \n",
        "\n",
        "limit = 4_000_000\n",
        "\n",
        "first = 1\n",
        "second = 2\n",
        "# first even fib number is 2, start sum there\n",
        "sum = 2\n",
        "\n",
        "start = time.time()\n",
        "\n",
        "while (second < limit):\n",
        "  temp = first\n",
        "  first = second\n",
        "  second = temp + second\n",
        "  if (second % 2 == 0):\n",
        "    sum += second\n",
        "\n",
        "end = time.time()\n",
        "\n",
        "print(\"time: \", end - start)\n",
        "\n",
        "print(sum)\n"
      ],
      "metadata": {
        "colab": {
          "base_uri": "https://localhost:8080/"
        },
        "id": "oIUjiXiUAJ1e",
        "outputId": "d89eb6eb-786e-4cd4-e377-1b8906b6f22f"
      },
      "execution_count": null,
      "outputs": [
        {
          "output_type": "stream",
          "name": "stdout",
          "text": [
            "time:  0.0001506805419921875\n",
            "4613732\n"
          ]
        }
      ]
    },
    {
      "cell_type": "markdown",
      "source": [
        "#### [Largest Prime Factor of 600851475143](https://projecteuler.net/problem=3)"
      ],
      "metadata": {
        "id": "760xJ9ZYKwxq"
      }
    },
    {
      "cell_type": "code",
      "source": [
        "import math\n",
        "def prime_factors(n):\n",
        "  while (n % 2 == 0):\n",
        "    print(\"2\")\n",
        "    n = n / 2\n",
        "  for i in range(3,int(math.sqrt(n))+1,2):\n",
        "        # while i divides n , print i and divide n\n",
        "        while n % i == 0:\n",
        "            print(i)\n",
        "            n = n / i\n",
        "             \n",
        "    # Condition if n is a prime\n",
        "    # number greater than 2\n",
        "  if n > 2:\n",
        "      print(n)\n",
        "\n",
        "prime_factors(600851475143)\n",
        "  "
      ],
      "metadata": {
        "colab": {
          "base_uri": "https://localhost:8080/"
        },
        "id": "E3jXRyjNK3qf",
        "outputId": "c5f41119-a6da-4684-f35b-073a3346b178"
      },
      "execution_count": null,
      "outputs": [
        {
          "output_type": "stream",
          "name": "stdout",
          "text": [
            "71\n",
            "839\n",
            "1471\n",
            "6857\n"
          ]
        }
      ]
    },
    {
      "cell_type": "markdown",
      "source": [
        "#### [Largest palindrome product](https://projecteuler.net/problem=4)"
      ],
      "metadata": {
        "id": "44G_vRfG3BNE"
      }
    },
    {
      "cell_type": "code",
      "source": [
        "def check_palindrome(number):\n",
        "  string = str(number)\n",
        "  stack = []\n",
        "  length = len(string)\n",
        "  for i in range(length // 2):\n",
        "    stack.append(string[i])\n",
        "  for i in range(length - length // 2, length):\n",
        "    if stack.pop() != string[i]:\n",
        "      return False\n",
        "  return True\n",
        "\n",
        "largest_palindrome = 0\n",
        "\n",
        "for i in range(100, 1000):\n",
        "  for j in range(100, 1000):\n",
        "    product = i * j\n",
        "    if check_palindrome(product) and product > largest_palindrome:\n",
        "      largest_palindrome = product\n",
        "\n",
        "print(largest_palindrome)"
      ],
      "metadata": {
        "colab": {
          "base_uri": "https://localhost:8080/"
        },
        "id": "IkexGNCj3Hcj",
        "outputId": "a725f839-b0c7-45bf-d8d0-12bdf5992b40"
      },
      "execution_count": null,
      "outputs": [
        {
          "output_type": "stream",
          "name": "stdout",
          "text": [
            "906609\n"
          ]
        }
      ]
    },
    {
      "cell_type": "markdown",
      "source": [
        "#### [Sum square difference](https://projecteuler.net/problem=6)"
      ],
      "metadata": {
        "id": "dY_dpjIES11_"
      }
    },
    {
      "cell_type": "code",
      "source": [
        "print(sum([i for i in range(1, 101)]) ** 2 - sum([i ** 2 for i in range(1, 101)]))"
      ],
      "metadata": {
        "colab": {
          "base_uri": "https://localhost:8080/"
        },
        "id": "Quc6mKhgS_oo",
        "outputId": "7e54b998-e6ee-4dd3-c691-89fba6862649"
      },
      "execution_count": null,
      "outputs": [
        {
          "output_type": "stream",
          "name": "stdout",
          "text": [
            "25164150\n"
          ]
        }
      ]
    },
    {
      "cell_type": "markdown",
      "source": [
        "#### [Largest product in a series](https://projecteuler.net/problem=8)"
      ],
      "metadata": {
        "id": "1PF05-ezl5pb"
      }
    },
    {
      "cell_type": "code",
      "source": [
        "from functools import reduce\n",
        "import operator\n",
        "\n",
        "num = \"\"\"7316717653133062491922511967442657474235534919493496983520312774506326239578318016984801869478851843858615607891129494954595017379583319528532088055111254069874715852386305071569329096329522744304355766896648950445244523161731856403098711121722383113622298934233803081353362766142828064444866452387493035890729629049156044077239071381051585930796086670172427121883998797908792274921901699720888093776657273330010533678812202354218097512545405947522435258490771167055601360483958644670632441572215539753697817977846174064955149290862569321978468622482839722413756570560574902614079729686524145351004748216637048440319989000889524345065854122758866688116427171479924442928230863465674813919123162824586178664583591245665294765456828489128831426076900422421902267105562632111110937054421750694165896040807198403850962455444362981230987879927244284909188845801561660979191338754992005240636899125607176060588611646710940507754100225698315520005593572972571636269561882670428252483600823257530420752963450\"\"\"\n",
        "start = 0\n",
        "end = 13\n",
        "best = 0\n",
        "while end < len(num):\n",
        "  l = reduce(operator.mul, [int(num[i]) for i in range(start, end)], 1)\n",
        "  if l > best:\n",
        "    best = l\n",
        "  start += 1\n",
        "  end += 1\n",
        "print(best)"
      ],
      "metadata": {
        "colab": {
          "base_uri": "https://localhost:8080/"
        },
        "id": "jgUrMXGvl_Z4",
        "outputId": "72fe7084-6407-491e-f1c4-a7b07206b76f"
      },
      "execution_count": null,
      "outputs": [
        {
          "output_type": "stream",
          "name": "stdout",
          "text": [
            "23514624000\n"
          ]
        }
      ]
    },
    {
      "cell_type": "markdown",
      "source": [
        "#### [#9 Special Pythagorean triplet](https://projecteuler.net/problem=9)"
      ],
      "metadata": {
        "id": "PvYArMuuJlaG"
      }
    },
    {
      "cell_type": "code",
      "source": [
        "for a in range(1, 10000):\n",
        "  found = False\n",
        "  for b in range(1, 10000):\n",
        "    c = 1000 - a - b\n",
        "    if ((a ** 2 + b ** 2) == c ** 2):\n",
        "      print(a * b * c)\n",
        "      found = True\n",
        "      break\n",
        "  if found:\n",
        "    break"
      ],
      "metadata": {
        "colab": {
          "base_uri": "https://localhost:8080/"
        },
        "id": "2KK5eGWyeAFr",
        "outputId": "63954a23-619a-49a6-ee85-ed176ed95cc7"
      },
      "execution_count": null,
      "outputs": [
        {
          "output_type": "stream",
          "name": "stdout",
          "text": [
            "31875000\n"
          ]
        }
      ]
    },
    {
      "cell_type": "markdown",
      "source": [
        "#### [#10 Summation of Primes](https://projecteuler.net/problem=10)"
      ],
      "metadata": {
        "id": "Hxf1Pz533mC2"
      }
    },
    {
      "cell_type": "code",
      "source": [
        "# this takes 3 minutes to run!\n",
        "primes = []\n",
        "for i in range(2, 2_000_000):\n",
        "  is_prime = True\n",
        "  for j in range(2, int(i ** 0.5) + 1):\n",
        "    if (i % j == 0):\n",
        "      is_prime = False\n",
        "  if is_prime:\n",
        "    primes.append(i)\n",
        "print(sum(primes))\n",
        "\n",
        "# this is pretty much instantaneous!\n",
        "# Sieve of Eratosthenes\n",
        "\n",
        "primes = {i : True for i in range(2, 2_000_001)}\n",
        "curr = 2\n",
        "\n",
        "while curr < 2_000_000:\n",
        "  for i in range(curr ** 2, 2_000_001, curr):\n",
        "    primes[i] = False\n",
        "  curr += 1\n",
        "  while curr < 2_000_000 and not primes[curr]:\n",
        "    curr += 1\n",
        "sum = 0\n",
        "for k, v in primes.items():\n",
        "  if v:\n",
        "    sum += k\n",
        "print(sum)\n",
        "\n"
      ],
      "metadata": {
        "colab": {
          "base_uri": "https://localhost:8080/"
        },
        "id": "2T8Uw_kw3qK5",
        "outputId": "6c02b9f7-8cdf-470d-de46-1d8360b19416"
      },
      "execution_count": null,
      "outputs": [
        {
          "output_type": "stream",
          "name": "stdout",
          "text": [
            "142913828922\n"
          ]
        }
      ]
    },
    {
      "cell_type": "markdown",
      "source": [
        "#### [#11 Largest product in a grid](https://projecteuler.net/problem=11)"
      ],
      "metadata": {
        "id": "yaOLz_Q5C7x5"
      }
    },
    {
      "cell_type": "code",
      "source": [
        "s = \"\"\"08 02 22 97 38 15 00 40 00 75 04 05 07 78 52 12 50 77 91 08\n",
        "49 49 99 40 17 81 18 57 60 87 17 40 98 43 69 48 04 56 62 00\n",
        "81 49 31 73 55 79 14 29 93 71 40 67 53 88 30 03 49 13 36 65\n",
        "52 70 95 23 04 60 11 42 69 24 68 56 01 32 56 71 37 02 36 91\n",
        "22 31 16 71 51 67 63 89 41 92 36 54 22 40 40 28 66 33 13 80\n",
        "24 47 32 60 99 03 45 02 44 75 33 53 78 36 84 20 35 17 12 50\n",
        "32 98 81 28 64 23 67 10 26 38 40 67 59 54 70 66 18 38 64 70\n",
        "67 26 20 68 02 62 12 20 95 63 94 39 63 08 40 91 66 49 94 21\n",
        "24 55 58 05 66 73 99 26 97 17 78 78 96 83 14 88 34 89 63 72\n",
        "21 36 23 09 75 00 76 44 20 45 35 14 00 61 33 97 34 31 33 95\n",
        "78 17 53 28 22 75 31 67 15 94 03 80 04 62 16 14 09 53 56 92\n",
        "16 39 05 42 96 35 31 47 55 58 88 24 00 17 54 24 36 29 85 57\n",
        "86 56 00 48 35 71 89 07 05 44 44 37 44 60 21 58 51 54 17 58\n",
        "19 80 81 68 05 94 47 69 28 73 92 13 86 52 17 77 04 89 55 40\n",
        "04 52 08 83 97 35 99 16 07 97 57 32 16 26 26 79 33 27 98 66\n",
        "88 36 68 87 57 62 20 72 03 46 33 67 46 55 12 32 63 93 53 69\n",
        "04 42 16 73 38 25 39 11 24 94 72 18 08 46 29 32 40 62 76 36\n",
        "20 69 36 41 72 30 23 88 34 62 99 69 82 67 59 85 74 04 36 16\n",
        "20 73 35 29 78 31 90 01 74 31 49 71 48 86 81 16 23 57 05 54\n",
        "01 70 54 71 83 51 54 69 16 92 33 48 61 43 52 01 89 19 67 48\"\"\"\n",
        "\n",
        "s = s.split('\\n')\n",
        "grid = []\n",
        "for i in s:\n",
        "    grid.append([int(i) for i in i.split()])\n",
        "\n",
        "def check_bounds(grid, listx, listy):\n",
        "    for x in listx:\n",
        "        if x < 0 or x > 19:\n",
        "            return False\n",
        "    for y in listy:\n",
        "        if y < 0 or y > 19:\n",
        "            return False\n",
        "    return True\n",
        "\n",
        "def get_left_product(grid, x, y):\n",
        "    if check_bounds(grid, [], [y-3, y-2, y-1]):\n",
        "        return grid[x][y] * grid[x][y-1] * grid[x][y-2] * grid[x][y-3]\n",
        "    return 0\n",
        "\n",
        "def get_right_product(grid, x, y):\n",
        "    if check_bounds(grid, [], [y+3, y+2, y+1]):\n",
        "        return grid[x][y] * grid[x][y+1] * grid[x][y+2] * grid[x][y+3]\n",
        "    return 0\n",
        "\n",
        "def get_down_product(grid, x, y):\n",
        "    if check_bounds(grid, [x+3, x+2, x+1], []):\n",
        "        return grid[x][y] * grid[x+1][y] * grid[x+2][y] * grid[x+3][y]\n",
        "    return 0\n",
        "\n",
        "def get_up_product(grid, x, y):\n",
        "    if check_bounds(grid, [x-3, x-2, x-1], []):\n",
        "        return grid[x][y] * grid[x-1][y] * grid[x-2][y] * grid[x-3][y]\n",
        "    return 0\n",
        "\n",
        "def get_diag_up_left_product(grid, x, y):\n",
        "    if check_bounds(grid, [x-3, x-2, x-1], [y-3, y-2, y-1]):\n",
        "        return grid[x][y] * grid[x-1][y-1] * grid[x-2][y-2] * grid[x-3][y-3]\n",
        "    return 0\n",
        "\n",
        "def get_diag_up_right_product(grid, x, y):\n",
        "    if check_bounds(grid, [x-3, x-2, x-1], [y+3, y+2, y+1]):\n",
        "        return grid[x][y] * grid[x-1][y+1] * grid[x-2][y+2] * grid[x-3][y+3]\n",
        "    return 0\n",
        "\n",
        "def get_diag_down_left_product(grid, x, y):\n",
        "    if check_bounds(grid, [x+3, x+2, x+1], [y-3, y-2, y-1]):\n",
        "        return grid[x][y] * grid[x+1][y-1] * grid[x+2][y-2] * grid[x+3][y-3]\n",
        "    return 0\n",
        "\n",
        "def get_diag_down_right_product(grid, x, y):\n",
        "    if check_bounds(grid, [x+3, x+2, x+1], [y+3, y+2, y+1]):\n",
        "        return grid[x][y] * grid[x+1][y+1] * grid[x+2][y+2] * grid[x+3][y+3]\n",
        "    return 0\n",
        "\n",
        "max_product = 0\n",
        "for i in range(len(grid)):\n",
        "    for j in range(len(grid[i])):\n",
        "        if get_diag_down_left_product(grid, i, j) > max_product:\n",
        "            max_product = get_diag_down_left_product(grid, i, j)\n",
        "        if get_diag_down_right_product(grid, i, j) > max_product:\n",
        "            max_product = get_diag_down_right_product(grid, i, j)\n",
        "        if get_diag_up_left_product(grid, i, j) > max_product:\n",
        "            max_product = get_diag_up_left_product(grid, i, j)\n",
        "        if get_diag_up_right_product(grid, i, j) > max_product:\n",
        "            max_product = get_diag_up_right_product(grid, i, j)\n",
        "        if get_left_product(grid, i, j) > max_product:\n",
        "            max_product = get_left_product(grid, i, j)\n",
        "        if get_right_product(grid, i, j) > max_product:\n",
        "            max_product = get_right_product(grid, i, j)\n",
        "        if get_down_product(grid, i, j) > max_product:\n",
        "            max_product = get_down_product(grid, i, j)\n",
        "        if get_up_product(grid, i, j) > max_product:\n",
        "            max_product = get_up_product(grid, i, j)\n",
        "print(max_product)\n",
        "        "
      ],
      "metadata": {
        "id": "Eagm68LNz4vd"
      },
      "execution_count": null,
      "outputs": []
    },
    {
      "cell_type": "markdown",
      "source": [
        "#### [Highly divisible triangular number](https://projecteuler.net/problem=12)"
      ],
      "metadata": {
        "id": "RWUCcyKNK-hu"
      }
    },
    {
      "cell_type": "code",
      "source": [
        "import itertools\n",
        "def triangle_numbers():\n",
        "    return itertools.accumulate(itertools.count())\n",
        "def factors(num):\n",
        "    factors = []\n",
        "    for div in range(1, int(num**0.5) + 1):\n",
        "        if num % div == 0:\n",
        "            factors.append(div)\n",
        "            other = num // div\n",
        "            if other != div:\n",
        "                factors.append(other)\n",
        "    return factors\n",
        "def highly_divis_triangular_number():\n",
        "    for number in triangle_numbers():\n",
        "        if len(factors(number)) >= 500:\n",
        "            return number\n",
        "print(highly_divis_triangular_number())"
      ],
      "metadata": {
        "colab": {
          "base_uri": "https://localhost:8080/"
        },
        "id": "WDb_0AfILC4R",
        "outputId": "ac44785f-c367-410c-b40c-d2a0afbff9a7"
      },
      "execution_count": null,
      "outputs": [
        {
          "output_type": "stream",
          "name": "stdout",
          "text": [
            "76576500\n"
          ]
        }
      ]
    },
    {
      "cell_type": "markdown",
      "source": [
        "#### [LargeSum](https://projecteuler.net/problem=13)"
      ],
      "metadata": {
        "id": "iEyFHOSo0OcS"
      }
    },
    {
      "cell_type": "markdown",
      "source": [
        ""
      ],
      "metadata": {
        "id": "sP_2XR5Y3-GF"
      }
    },
    {
      "cell_type": "code",
      "source": [
        "s = \"\"\"37107287533902102798797998220837590246510135740250\n",
        "46376937677490009712648124896970078050417018260538\n",
        "74324986199524741059474233309513058123726617309629\n",
        "91942213363574161572522430563301811072406154908250\n",
        "23067588207539346171171980310421047513778063246676\n",
        "89261670696623633820136378418383684178734361726757\n",
        "28112879812849979408065481931592621691275889832738\n",
        "44274228917432520321923589422876796487670272189318\n",
        "47451445736001306439091167216856844588711603153276\n",
        "70386486105843025439939619828917593665686757934951\n",
        "62176457141856560629502157223196586755079324193331\n",
        "64906352462741904929101432445813822663347944758178\n",
        "92575867718337217661963751590579239728245598838407\n",
        "58203565325359399008402633568948830189458628227828\n",
        "80181199384826282014278194139940567587151170094390\n",
        "35398664372827112653829987240784473053190104293586\n",
        "86515506006295864861532075273371959191420517255829\n",
        "71693888707715466499115593487603532921714970056938\n",
        "54370070576826684624621495650076471787294438377604\n",
        "53282654108756828443191190634694037855217779295145\n",
        "36123272525000296071075082563815656710885258350721\n",
        "45876576172410976447339110607218265236877223636045\n",
        "17423706905851860660448207621209813287860733969412\n",
        "81142660418086830619328460811191061556940512689692\n",
        "51934325451728388641918047049293215058642563049483\n",
        "62467221648435076201727918039944693004732956340691\n",
        "15732444386908125794514089057706229429197107928209\n",
        "55037687525678773091862540744969844508330393682126\n",
        "18336384825330154686196124348767681297534375946515\n",
        "80386287592878490201521685554828717201219257766954\n",
        "78182833757993103614740356856449095527097864797581\n",
        "16726320100436897842553539920931837441497806860984\n",
        "48403098129077791799088218795327364475675590848030\n",
        "87086987551392711854517078544161852424320693150332\n",
        "59959406895756536782107074926966537676326235447210\n",
        "69793950679652694742597709739166693763042633987085\n",
        "41052684708299085211399427365734116182760315001271\n",
        "65378607361501080857009149939512557028198746004375\n",
        "35829035317434717326932123578154982629742552737307\n",
        "94953759765105305946966067683156574377167401875275\n",
        "88902802571733229619176668713819931811048770190271\n",
        "25267680276078003013678680992525463401061632866526\n",
        "36270218540497705585629946580636237993140746255962\n",
        "24074486908231174977792365466257246923322810917141\n",
        "91430288197103288597806669760892938638285025333403\n",
        "34413065578016127815921815005561868836468420090470\n",
        "23053081172816430487623791969842487255036638784583\n",
        "11487696932154902810424020138335124462181441773470\n",
        "63783299490636259666498587618221225225512486764533\n",
        "67720186971698544312419572409913959008952310058822\n",
        "95548255300263520781532296796249481641953868218774\n",
        "76085327132285723110424803456124867697064507995236\n",
        "37774242535411291684276865538926205024910326572967\n",
        "23701913275725675285653248258265463092207058596522\n",
        "29798860272258331913126375147341994889534765745501\n",
        "18495701454879288984856827726077713721403798879715\n",
        "38298203783031473527721580348144513491373226651381\n",
        "34829543829199918180278916522431027392251122869539\n",
        "40957953066405232632538044100059654939159879593635\n",
        "29746152185502371307642255121183693803580388584903\n",
        "41698116222072977186158236678424689157993532961922\n",
        "62467957194401269043877107275048102390895523597457\n",
        "23189706772547915061505504953922979530901129967519\n",
        "86188088225875314529584099251203829009407770775672\n",
        "11306739708304724483816533873502340845647058077308\n",
        "82959174767140363198008187129011875491310547126581\n",
        "97623331044818386269515456334926366572897563400500\n",
        "42846280183517070527831839425882145521227251250327\n",
        "55121603546981200581762165212827652751691296897789\n",
        "32238195734329339946437501907836945765883352399886\n",
        "75506164965184775180738168837861091527357929701337\n",
        "62177842752192623401942399639168044983993173312731\n",
        "32924185707147349566916674687634660915035914677504\n",
        "99518671430235219628894890102423325116913619626622\n",
        "73267460800591547471830798392868535206946944540724\n",
        "76841822524674417161514036427982273348055556214818\n",
        "97142617910342598647204516893989422179826088076852\n",
        "87783646182799346313767754307809363333018982642090\n",
        "10848802521674670883215120185883543223812876952786\n",
        "71329612474782464538636993009049310363619763878039\n",
        "62184073572399794223406235393808339651327408011116\n",
        "66627891981488087797941876876144230030984490851411\n",
        "60661826293682836764744779239180335110989069790714\n",
        "85786944089552990653640447425576083659976645795096\n",
        "66024396409905389607120198219976047599490197230297\n",
        "64913982680032973156037120041377903785566085089252\n",
        "16730939319872750275468906903707539413042652315011\n",
        "94809377245048795150954100921645863754710598436791\n",
        "78639167021187492431995700641917969777599028300699\n",
        "15368713711936614952811305876380278410754449733078\n",
        "40789923115535562561142322423255033685442488917353\n",
        "44889911501440648020369068063960672322193204149535\n",
        "41503128880339536053299340368006977710650566631954\n",
        "81234880673210146739058568557934581403627822703280\n",
        "82616570773948327592232845941706525094512325230608\n",
        "22918802058777319719839450180888072429661980811197\n",
        "77158542502016545090413245809786882778948721859617\n",
        "72107838435069186155435662884062257473692284509516\n",
        "20849603980134001723930671666823555245252804609722\n",
        "53503534226472524250874054075591789781264330331690\"\"\"\n",
        "\n",
        "print(str(sum([int(num) for num in s.split(\"\\n\")]))[:10])\n",
        "\n"
      ],
      "metadata": {
        "colab": {
          "base_uri": "https://localhost:8080/"
        },
        "id": "Py8u0AHT0TUy",
        "outputId": "643b7bc1-9621-4fb2-8c53-11ce02198da5"
      },
      "execution_count": null,
      "outputs": [
        {
          "output_type": "stream",
          "name": "stdout",
          "text": [
            "5537376230\n"
          ]
        }
      ]
    },
    {
      "cell_type": "markdown",
      "source": [
        "#### [Longest collatz sequence](https://projecteuler.net/problem=14)"
      ],
      "metadata": {
        "id": "XJX3hide3-1O"
      }
    },
    {
      "cell_type": "code",
      "source": [
        "limit = 1_000_000\n",
        "\n",
        "def collatz(num):\n",
        "  count = 0\n",
        "  while num != 1:\n",
        "    if (num % 2) == 0:\n",
        "      num /= 2\n",
        "    else:\n",
        "      num = 3 * num + 1\n",
        "    count += 1\n",
        "  return count\n",
        "\n",
        "longest = 0\n",
        "longest_count = 0\n",
        "for i in range(1, limit):\n",
        "  count = collatz(i)\n",
        "  if count > longest_count:\n",
        "    longest = i\n",
        "    longest_count = count\n",
        "print(longest)\n",
        "  "
      ],
      "metadata": {
        "colab": {
          "base_uri": "https://localhost:8080/"
        },
        "id": "P3FeAfc34Fuo",
        "outputId": "e3619a1c-1057-4473-c063-3de67062f551"
      },
      "execution_count": null,
      "outputs": [
        {
          "output_type": "stream",
          "name": "stdout",
          "text": [
            "837799\n"
          ]
        }
      ]
    },
    {
      "cell_type": "markdown",
      "source": [
        "#### [Lattice paths](https://projecteuler.net/problem=15)"
      ],
      "metadata": {
        "id": "O5iS45vpeGgD"
      }
    },
    {
      "cell_type": "code",
      "source": [
        "# brute force- times out\n",
        "def corner_bar(posx, posy):\n",
        "  if posx == 2 and posy == 2:\n",
        "    return 1\n",
        "  if (posx + 1) > 2:\n",
        "    return corner_bar(posx, posy + 1)\n",
        "  if (posy + 1) > 2:\n",
        "    return corner_bar(posx + 1, posy)\n",
        "  return corner_bar(posx + 1, posy) + corner_bar(posx, posy + 1)\n",
        "\n",
        "print(corner_bar(0, 0))\n",
        "\n",
        "# There will always be 20 right turns taken and 20 down turns taken\n",
        "# Find all permutations of string Rx20Dx20\n",
        "# 40!\n",
        "# order does not matter- remove duplicate permutations different order of R's and \n",
        "# D's\n",
        "# each is 20!, so 40!/20!*20!\n",
        "# https://towardsdatascience.com/understanding-combinatorics-number-of-paths-on-a-grid-bddf08e28384\n",
        "\n",
        "import math\n",
        "print(math.factorial(40) / (math.factorial(20) * math.factorial(20)))"
      ],
      "metadata": {
        "colab": {
          "base_uri": "https://localhost:8080/"
        },
        "id": "M6lVlWmKeMfV",
        "outputId": "96d24139-fec8-4994-c7f1-b611e1ffa578"
      },
      "execution_count": null,
      "outputs": [
        {
          "output_type": "stream",
          "name": "stdout",
          "text": [
            "137846528820.0\n"
          ]
        }
      ]
    },
    {
      "cell_type": "markdown",
      "source": [
        "#### [Power digit sum](https://projecteuler.net/problem=16)"
      ],
      "metadata": {
        "id": "V9VpS0QSzrMf"
      }
    },
    {
      "cell_type": "code",
      "source": [
        "num = str(2 ** 1000)\n",
        "print(sum([int(i) for i in num]))"
      ],
      "metadata": {
        "colab": {
          "base_uri": "https://localhost:8080/"
        },
        "id": "MjaPRMlfzwDf",
        "outputId": "8d6df31a-1666-4ce9-e289-e03007bb1724"
      },
      "execution_count": null,
      "outputs": [
        {
          "output_type": "stream",
          "name": "stdout",
          "text": [
            "1366\n"
          ]
        }
      ]
    },
    {
      "cell_type": "markdown",
      "source": [
        "#### [Number letter counts](https://projecteuler.net/problem=17)"
      ],
      "metadata": {
        "id": "D16yu1di2YPM"
      }
    },
    {
      "cell_type": "code",
      "source": [
        "map = {\n",
        "    1: 'one',\n",
        "    2: 'two',\n",
        "    3: 'three',\n",
        "    4: 'four',\n",
        "    5: 'five',\n",
        "    6: 'six',\n",
        "    7: 'seven',\n",
        "    8: 'eight',\n",
        "    9: 'nine',\n",
        "    10: 'ten',\n",
        "    11: 'eleven',\n",
        "    12: 'twelve',\n",
        "    20: 'twenty',\n",
        "    30: 'thirty',\n",
        "    40: 'forty',\n",
        "    50: 'fifty',\n",
        "    60: 'sixty',\n",
        "    70: 'seventy',\n",
        "    80: 'eighty',\n",
        "    90: 'ninety',\n",
        "    1000: 'onethousand'\n",
        "}\n",
        "\n",
        "teen_prefixes = {\n",
        "    13: \"thir\",\n",
        "    14: \"four\",\n",
        "    15: \"fif\",\n",
        "    16: \"six\",\n",
        "    17: \"seven\",\n",
        "    18: \"eigh\",\n",
        "    19: \"nine\"\n",
        "}\n",
        "\n",
        "res = \"\"\n",
        "for i in range(1, 1001):\n",
        "  if i in map:\n",
        "    res += map[i]\n",
        "    continue\n",
        "  ones = i % 10\n",
        "  tens = (i // 10) % 10\n",
        "  if i >= 100:\n",
        "    hundreds = (i // 100) % 10\n",
        "    res += f\"{map[hundreds]}hundred\"\n",
        "    if ones == 0 and tens == 0:\n",
        "      continue\n",
        "    else:\n",
        "      res += \"and\"\n",
        "  two_digs = (tens * 10) + ones\n",
        "  if two_digs in map:\n",
        "    res += f\"{map[two_digs]}\"\n",
        "    continue\n",
        "  if 11 <= two_digs <= 19:\n",
        "    res += f\"{teen_prefixes[two_digs]}teen\"\n",
        "    continue\n",
        "  else:\n",
        "    res += f\"{map[tens*10]}{map[ones]}\"\n",
        "\n",
        "\n",
        "  \n",
        "print(len(res))\n"
      ],
      "metadata": {
        "colab": {
          "base_uri": "https://localhost:8080/"
        },
        "id": "-t_Fcq8j2fcS",
        "outputId": "3724ffe1-14ed-41c8-8955-c386928b9803"
      },
      "execution_count": null,
      "outputs": [
        {
          "output_type": "stream",
          "name": "stdout",
          "text": [
            "21124\n"
          ]
        }
      ]
    },
    {
      "cell_type": "markdown",
      "source": [
        "#### [Maximum path sum 1](https://projecteuler.net/problem=18)"
      ],
      "metadata": {
        "id": "gUPCP7OLTKS7"
      }
    },
    {
      "cell_type": "code",
      "source": [
        "s = \"\"\"75\n",
        "95 64\n",
        "17 47 82\n",
        "18 35 87 10\n",
        "20 04 82 47 65\n",
        "19 01 23 75 03 34\n",
        "88 02 77 73 07 63 67\n",
        "99 65 04 28 06 16 70 92\n",
        "41 41 26 56 83 40 80 70 33\n",
        "41 48 72 33 47 32 37 16 94 29\n",
        "53 71 44 65 25 43 91 52 97 51 14\n",
        "70 11 33 28 77 73 17 78 39 68 17 57\n",
        "91 71 52 38 17 14 91 43 58 50 27 29 48\n",
        "63 66 04 68 89 53 67 30 73 16 69 87 40 31\n",
        "04 62 98 27 23 09 70 98 73 93 38 53 60 04 23\"\"\"\n",
        "s = s.split('\\n')\n",
        "triangle = []\n",
        "for i in s:\n",
        "    triangle.append([int(i) for i in i.split()])\n",
        "\n",
        "def find_max_path(triangle):\n",
        "  return find_max_path_recursive(triangle, 0, 0, 0)\n",
        "\n",
        "def find_max_path_recursive(triangle, curr_index, curr_level, sum):\n",
        "  sum += triangle[curr_level][curr_index]\n",
        "  if curr_level == 14:\n",
        "    return sum\n",
        "  return max(find_max_path_recursive(triangle, curr_index, curr_level + 1, sum), find_max_path_recursive(triangle, curr_index + 1, curr_level + 1, sum))\n",
        "\n",
        "print(find_max_path(triangle))\n",
        "  \n"
      ],
      "metadata": {
        "colab": {
          "base_uri": "https://localhost:8080/"
        },
        "id": "Yaf1G9UDTTTu",
        "outputId": "6c9772c7-4355-475b-d319-e5ea3b4ac3c2"
      },
      "execution_count": null,
      "outputs": [
        {
          "output_type": "stream",
          "name": "stdout",
          "text": [
            "1074\n"
          ]
        }
      ]
    },
    {
      "cell_type": "markdown",
      "source": [
        "#### [Counting Sundays](https://projecteuler.net/problem=19)"
      ],
      "metadata": {
        "id": "Z0SShNWBF7l_"
      }
    },
    {
      "cell_type": "code",
      "source": [
        "days = {\n",
        "    0: 31,\n",
        "    1: 28,\n",
        "    2: 31,\n",
        "    3: 30,\n",
        "    4: 31,\n",
        "    5: 30,\n",
        "    6: 31,\n",
        "    7: 31,\n",
        "    8: 30,\n",
        "    9: 31,\n",
        "    10: 30,\n",
        "    11: 31\n",
        "}\n",
        "\n",
        "weekday = 0\n",
        "# loop through 1900's days to get weekday of 1 Jan 1901 - do not count any sundays\n",
        "for i in range(12):\n",
        "  for day in range(1, days[i] + 1):\n",
        "    weekday = 0 if (weekday == 6) else weekday + 1\n",
        "\n",
        "# 1 Jan 1901 was a Tuesday\n",
        "print(weekday)\n",
        "\n",
        "sundays = 0\n",
        "\n",
        "for year in range(1901, 2001):\n",
        "  leap = False\n",
        "  if (year % 4) == 0:\n",
        "    leap = True\n",
        "  for month in range(12):\n",
        "    num_days = days[month] + 1\n",
        "    if month == 1 and leap:\n",
        "      num_days += 1\n",
        "    for number_day in range(1, num_days):\n",
        "      if number_day == 1 and weekday == 6:\n",
        "        sundays += 1\n",
        "      weekday = 0 if (weekday == 6) else weekday + 1\n",
        "\n",
        "print(sundays)\n"
      ],
      "metadata": {
        "colab": {
          "base_uri": "https://localhost:8080/"
        },
        "id": "vjxaAm5_GAb4",
        "outputId": "b19d7432-fb7f-4088-832c-6e699796cacc"
      },
      "execution_count": 34,
      "outputs": [
        {
          "output_type": "stream",
          "name": "stdout",
          "text": [
            "1\n",
            "171\n"
          ]
        }
      ]
    },
    {
      "cell_type": "markdown",
      "source": [
        "#### [Factorial digit sum](https://projecteuler.net/problem=20)"
      ],
      "metadata": {
        "id": "tqccGwbwch75"
      }
    },
    {
      "cell_type": "code",
      "source": [
        "import math\n",
        "\n",
        "print(sum([int(dig) for dig in str(math.factorial(100))]))"
      ],
      "metadata": {
        "colab": {
          "base_uri": "https://localhost:8080/"
        },
        "id": "brSsE-RCcn_7",
        "outputId": "7368d0e8-76e2-4273-dd46-0659c6c68aed"
      },
      "execution_count": 35,
      "outputs": [
        {
          "output_type": "stream",
          "name": "stdout",
          "text": [
            "648\n"
          ]
        }
      ]
    }
  ]
}